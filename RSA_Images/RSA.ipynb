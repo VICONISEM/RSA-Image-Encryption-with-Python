{
 "cells": [
  {
   "attachments": {},
   "cell_type": "markdown",
   "metadata": {},
   "source": [
    "## install Libraries ( numpy , cv2 )"
   ]
  },
  {
   "cell_type": "code",
   "execution_count": 2,
   "metadata": {},
   "outputs": [
    {
     "name": "stdout",
     "output_type": "stream",
     "text": [
      "Requirement already satisfied: numpy in c:\\python311\\lib\\site-packages (1.25.0)\n",
      "Requirement already satisfied: opencv-python in c:\\python311\\lib\\site-packages (4.7.0.72)\n",
      "Note: you may need to restart the kernel to use updated packages.\n"
     ]
    }
   ],
   "source": [
    "%pip install numpy opencv-python"
   ]
  },
  {
   "attachments": {},
   "cell_type": "markdown",
   "metadata": {},
   "source": [
    "## importing Libraries"
   ]
  },
  {
   "cell_type": "code",
   "execution_count": 3,
   "metadata": {},
   "outputs": [],
   "source": [
    "import numpy as np\n",
    "import math\n",
    "import cv2\n",
    "import random\n",
    "import matplotlib.pyplot as plt "
   ]
  },
  {
   "attachments": {},
   "cell_type": "markdown",
   "metadata": {},
   "source": [
    "# RSA functions"
   ]
  },
  {
   "cell_type": "code",
   "execution_count": 4,
   "metadata": {},
   "outputs": [],
   "source": [
    "def is_prime(number):\n",
    "    if number <= 1:\n",
    "        return False\n",
    "    else:\n",
    "        for i in range(2, number):\n",
    "            if number % i == 0:\n",
    "                return False\n",
    "        return True\n",
    "\n",
    "def generate_primes():\n",
    "    while True:\n",
    "        prime1 = random.randint(100, 1000)\n",
    "        prime2 = random.randint(100, 1000)\n",
    "        if is_prime(prime1) and is_prime(prime2) and prime1 != prime2:\n",
    "            return prime1, prime2\n",
    "\n",
    "def generate_E(m):\n",
    "    coprime_number = 2\n",
    "    while math.gcd(m, coprime_number) != 1:\n",
    "        coprime_number = random.randint(2, m - 1)\n",
    "    return coprime_number\n",
    "\n",
    "def generate_D(M, E):\n",
    "    k = 1\n",
    "    while True:\n",
    "        d = (((M * k) + 1) / E)\n",
    "        if d == int(d):\n",
    "            return int(d)\n",
    "        k += 1\n",
    "\n",
    "def generate_key_pair():\n",
    "    p, q = generate_primes()\n",
    "    n = p * q\n",
    "    m = (p - 1) * (q - 1)\n",
    "    e = generate_E(m)\n",
    "    d = generate_D(m, e)\n",
    "    return p, q, n, m, e, d\n",
    "\n",
    "def encrypt_image(flatten_image, E, modulus):\n",
    "    encrypted_text = [pow(int(flatten_image[i]), E, modulus) for i in range(len(flatten_image))]\n",
    "    encrypted_text = np.array(encrypted_text)\n",
    "    return encrypted_text\n",
    "\n",
    "def decrypt_image(encrypted_image, D, modulus):\n",
    "    decrypted_text = [pow(int(encrypted_image[i]), D, modulus) for i in range(len(encrypted_image))]\n",
    "    decrypted_text = np.array(decrypted_text)\n",
    "    return decrypted_text"
   ]
  },
  {
   "attachments": {},
   "cell_type": "markdown",
   "metadata": {},
   "source": [
    "# flatten image and reshape"
   ]
  },
  {
   "cell_type": "code",
   "execution_count": 5,
   "metadata": {},
   "outputs": [],
   "source": [
    "def flatten_image(image_array):\n",
    "    flattened_image = image_array.flatten()\n",
    "    return flattened_image\n",
    "\n",
    "def reshape_image(flattened_image, height, width):\n",
    "    reshaped_image = flattened_image.reshape(height, width, 3)\n",
    "    return reshaped_image\n",
    "\n",
    "def conver_flat_2_3D(flat_image, h, w):\n",
    "    for pixel in flat_image:\n",
    "        flat_image[pixel] = flat_image[pixel] % 256\n",
    "    flat_image = flat_image.astype(np.uint8)\n",
    "    flat_image = reshape_image(flat_image, h, w)\n",
    "    return flat_image\n"
   ]
  },
  {
   "attachments": {},
   "cell_type": "markdown",
   "metadata": {},
   "source": [
    "## Encryption And Dcryption"
   ]
  },
  {
   "cell_type": "code",
   "execution_count": null,
   "metadata": {},
   "outputs": [],
   "source": [
    "def RSA_encryption(img):\n",
    "    height, width = img.shape[:2]\n",
    "\n",
    "    p, q, n, m, E, D = generate_key_pair()\n",
    "    flat_array_of_original_image = flatten_image(img)\n",
    "\n",
    "    encrypted_image_text = encrypt_image(flat_array_of_original_image, E, n)\n",
    "    encrypted_image_img= conver_flat_2_3D(encrypted_image_text, height, width)\n",
    "    encrypted_image_img= cv2.cvtColor(encrypted_image_img, cv2.COLOR_BGR2GRAY)\n",
    "    cv2.imwrite(\"encrypted_image.jpg\", encrypted_image_img*2)\n",
    "\n",
    "\n",
    "    decrypted_image_text = decrypt_image(encrypted_image_text, D, n)\n",
    "    decrypted_image_img = reshape_image(decrypted_image_text, height, width)\n",
    "    cv2.imwrite(\"decrypted_image.jpg\", decrypted_image_img)\n",
    "        "
   ]
  },
  {
   "cell_type": "code",
   "execution_count": 7,
   "metadata": {},
   "outputs": [],
   "source": [
    "img = cv2.imread(\"./images/apple.jpg\")\n",
    "RSA_encryption(img)\n"
   ]
  }
 ],
 "metadata": {
  "kernelspec": {
   "display_name": "Python 3",
   "language": "python",
   "name": "python3"
  },
  "language_info": {
   "codemirror_mode": {
    "name": "ipython",
    "version": 3
   },
   "file_extension": ".py",
   "mimetype": "text/x-python",
   "name": "python",
   "nbconvert_exporter": "python",
   "pygments_lexer": "ipython3",
   "version": "3.11.4"
  },
  "orig_nbformat": 4
 },
 "nbformat": 4,
 "nbformat_minor": 2
}
